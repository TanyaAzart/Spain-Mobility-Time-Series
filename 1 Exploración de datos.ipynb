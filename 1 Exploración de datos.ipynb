{
 "cells": [
  {
   "cell_type": "markdown",
   "metadata": {},
   "source": [
    "Los datos de movilidad de población española descargados desde la página web del Ministerio de Transportes de España: https://www.mitma.es/ministerio/covid-19/evolucion-movilidad-big-data/opendata-movilidad. \n",
    "\n",
    "Empezamos por explorar los datos para un día seleccionado de la semana de referencia (antes de restricciones impuestas por COVID-19), el viernes de febrero 14 de 2020.\n",
    "\n",
    "Importamos las librerias de Python que vamos a necesitar."
   ]
  },
  {
   "cell_type": "code",
   "execution_count": 1,
   "metadata": {},
   "outputs": [],
   "source": [
    "import pandas as pd\n",
    "import numpy as np\n",
    "import matplotlib.pyplot as plt"
   ]
  },
  {
   "cell_type": "markdown",
   "metadata": {},
   "source": [
    "Los datos están en formato '.txt' con los campos separados con la barra vertical \"|\".Indicamos la carpeta con el archivo e importamos los datos a una tabla. La opción \"low_memory=False\" nos deja importar sin indicar tipos de datos en las columnas, Pandas lo va a hacer por nosotros."
   ]
  },
  {
   "cell_type": "code",
   "execution_count": 2,
   "metadata": {},
   "outputs": [],
   "source": [
    "path = './febrero/20200214_maestra_1.txt'\n",
    "file= pd.read_csv(path, sep=\"|\", low_memory=False)"
   ]
  },
  {
   "cell_type": "markdown",
   "metadata": {},
   "source": [
    "Vamos a ver cuantos registros y cuantas columnas hay en la tabla."
   ]
  },
  {
   "cell_type": "code",
   "execution_count": 3,
   "metadata": {},
   "outputs": [
    {
     "data": {
      "text/plain": [
       "fecha                6585132\n",
       "origen               6585132\n",
       "destino              6585132\n",
       "actividad_origen     6585132\n",
       "actividad_destino    6585132\n",
       "residencia           6585132\n",
       "edad                       0\n",
       "periodo              6585132\n",
       "distancia            6585132\n",
       "viajes               6585132\n",
       "viajes_km            6585132\n",
       "dtype: int64"
      ]
     },
     "execution_count": 3,
     "metadata": {},
     "output_type": "execute_result"
    }
   ],
   "source": [
    "file.count()"
   ]
  },
  {
   "cell_type": "markdown",
   "metadata": {},
   "source": [
    "La tabla contiene 6,5 millones de registros y 11 columnas, una de ellas (\"edad\") está vacía por lo cual podemos eliminarla."
   ]
  },
  {
   "cell_type": "code",
   "execution_count": 3,
   "metadata": {},
   "outputs": [
    {
     "data": {
      "text/html": [
       "<div>\n",
       "<style scoped>\n",
       "    .dataframe tbody tr th:only-of-type {\n",
       "        vertical-align: middle;\n",
       "    }\n",
       "\n",
       "    .dataframe tbody tr th {\n",
       "        vertical-align: top;\n",
       "    }\n",
       "\n",
       "    .dataframe thead th {\n",
       "        text-align: right;\n",
       "    }\n",
       "</style>\n",
       "<table border=\"1\" class=\"dataframe\">\n",
       "  <thead>\n",
       "    <tr style=\"text-align: right;\">\n",
       "      <th></th>\n",
       "      <th>fecha</th>\n",
       "      <th>origen</th>\n",
       "      <th>destino</th>\n",
       "      <th>actividad_origen</th>\n",
       "      <th>actividad_destino</th>\n",
       "      <th>residencia</th>\n",
       "      <th>periodo</th>\n",
       "      <th>distancia</th>\n",
       "      <th>viajes</th>\n",
       "      <th>viajes_km</th>\n",
       "    </tr>\n",
       "  </thead>\n",
       "  <tbody>\n",
       "    <tr>\n",
       "      <th>0</th>\n",
       "      <td>20200214</td>\n",
       "      <td>01001_AM</td>\n",
       "      <td>01001_AM</td>\n",
       "      <td>casa</td>\n",
       "      <td>otros</td>\n",
       "      <td>1</td>\n",
       "      <td>0</td>\n",
       "      <td>002-005</td>\n",
       "      <td>8.203</td>\n",
       "      <td>33.073</td>\n",
       "    </tr>\n",
       "    <tr>\n",
       "      <th>1</th>\n",
       "      <td>20200214</td>\n",
       "      <td>01001_AM</td>\n",
       "      <td>01001_AM</td>\n",
       "      <td>casa</td>\n",
       "      <td>otros</td>\n",
       "      <td>1</td>\n",
       "      <td>0</td>\n",
       "      <td>005-010</td>\n",
       "      <td>10.080</td>\n",
       "      <td>62.972</td>\n",
       "    </tr>\n",
       "    <tr>\n",
       "      <th>2</th>\n",
       "      <td>20200214</td>\n",
       "      <td>01001_AM</td>\n",
       "      <td>01001_AM</td>\n",
       "      <td>casa</td>\n",
       "      <td>otros</td>\n",
       "      <td>1</td>\n",
       "      <td>1</td>\n",
       "      <td>002-005</td>\n",
       "      <td>15.592</td>\n",
       "      <td>65.630</td>\n",
       "    </tr>\n",
       "    <tr>\n",
       "      <th>3</th>\n",
       "      <td>20200214</td>\n",
       "      <td>01001_AM</td>\n",
       "      <td>01001_AM</td>\n",
       "      <td>casa</td>\n",
       "      <td>otros</td>\n",
       "      <td>1</td>\n",
       "      <td>1</td>\n",
       "      <td>005-010</td>\n",
       "      <td>15.184</td>\n",
       "      <td>129.594</td>\n",
       "    </tr>\n",
       "    <tr>\n",
       "      <th>4</th>\n",
       "      <td>20200214</td>\n",
       "      <td>01001_AM</td>\n",
       "      <td>01001_AM</td>\n",
       "      <td>casa</td>\n",
       "      <td>otros</td>\n",
       "      <td>1</td>\n",
       "      <td>3</td>\n",
       "      <td>005-010</td>\n",
       "      <td>7.675</td>\n",
       "      <td>48.108</td>\n",
       "    </tr>\n",
       "  </tbody>\n",
       "</table>\n",
       "</div>"
      ],
      "text/plain": [
       "      fecha    origen   destino actividad_origen actividad_destino  \\\n",
       "0  20200214  01001_AM  01001_AM             casa             otros   \n",
       "1  20200214  01001_AM  01001_AM             casa             otros   \n",
       "2  20200214  01001_AM  01001_AM             casa             otros   \n",
       "3  20200214  01001_AM  01001_AM             casa             otros   \n",
       "4  20200214  01001_AM  01001_AM             casa             otros   \n",
       "\n",
       "   residencia  periodo distancia  viajes  viajes_km  \n",
       "0           1        0   002-005   8.203     33.073  \n",
       "1           1        0   005-010  10.080     62.972  \n",
       "2           1        1   002-005  15.592     65.630  \n",
       "3           1        1   005-010  15.184    129.594  \n",
       "4           1        3   005-010   7.675     48.108  "
      ]
     },
     "execution_count": 3,
     "metadata": {},
     "output_type": "execute_result"
    }
   ],
   "source": [
    "file.drop('edad', axis=1, inplace=True)\n",
    "file.head(5)"
   ]
  },
  {
   "cell_type": "markdown",
   "metadata": {},
   "source": [
    "Según el \"Informe metodológico\" (que hemos descargado de aquí: https://www.mitma.es/ministerio/covid-19/evolucion-movilidad-big-data), las columnas representan la información siguientes:\n",
    "\n",
    "'fecha' - en formato 'YYYYMMDD'\n",
    "'origen' - el código del distrito donde el viaje se inició\n",
    "'destino' - el código del distrito donde el viaje se acabó\n",
    "'actividad_origen' and 'actividad_destino' - descripción de los puntos iniciales y finales\n",
    "'residencia' - el código de residencia del viajero\n",
    "'periodo' - la hora donde el viaje se inició\n",
    "'distancia' - longitud del viaje\n",
    "'viajes' - número de viajes para la combinación específica de valores en las columnas precedentes\n",
    "'viajes_km' - número de kilómetros recorridos por todos viajeres para la combinación específica de valores en las columnas precedentes\n",
    "\n",
    "Vamos a ver cuantos valores únicos tiene la columna \"residencia\"."
   ]
  },
  {
   "cell_type": "code",
   "execution_count": 4,
   "metadata": {},
   "outputs": [
    {
     "data": {
      "text/plain": [
       "array([ 1,  8,  9, 11, 20, 21, 24, 26, 28, 31, 38, 47, 48, 32, 17, 39, 12,\n",
       "       14, 42, 46, 43,  3, 33, 37, 41, 18,  5, 50, 44, 15,  6, 34, 22, 36,\n",
       "       10, 23, 30, 13, 40,  4, 45,  7, 35, 29, 49, 25, 27, 19, 16,  2, 52,\n",
       "       51], dtype=int64)"
      ]
     },
     "execution_count": 4,
     "metadata": {},
     "output_type": "execute_result"
    }
   ],
   "source": [
    "file['residencia'].unique()"
   ]
  },
  {
   "cell_type": "markdown",
   "metadata": {},
   "source": [
    "Por haber 52 unique values concluimos que son los códigos de 50 provincias de España más 2 ciudades autónomas de Ceuta y Melilla.\n",
    "Y qué está en las columnas \"origen\" y \"destino\"? También son los códigos de provincias?"
   ]
  },
  {
   "cell_type": "code",
   "execution_count": 5,
   "metadata": {},
   "outputs": [
    {
     "data": {
      "text/plain": [
       "2839"
      ]
     },
     "execution_count": 5,
     "metadata": {},
     "output_type": "execute_result"
    }
   ],
   "source": [
    "len(file['origen'].unique())"
   ]
  },
  {
   "cell_type": "code",
   "execution_count": 6,
   "metadata": {},
   "outputs": [
    {
     "data": {
      "text/plain": [
       "2839"
      ]
     },
     "execution_count": 6,
     "metadata": {},
     "output_type": "execute_result"
    }
   ],
   "source": [
    "len(file['destino'].unique())"
   ]
  },
  {
   "cell_type": "markdown",
   "metadata": {},
   "source": [
    "El número de valores únicos en las dos columnas supera de forma significativa el número de provincias. Entonces, son las zonas más pequeñas. Añadimos a la tabla dos columnas para indicar las provincias de procedencia y terminación de viajes.\n",
    "Aqui definimos la función para sacar el código de provincia desde el código de zona:"
   ]
  },
  {
   "cell_type": "code",
   "execution_count": 7,
   "metadata": {},
   "outputs": [],
   "source": [
    "def recode (df, column):\n",
    "    source = np.array(df[column])\n",
    "    result = []\n",
    "    for code in source:\n",
    "        if code[0]=='0':\n",
    "            result.append(int(code[1:2]))\n",
    "        else:\n",
    "            result.append(int(code[0:2]))\n",
    "    name = 'recoded_' + column\n",
    "    \n",
    "    df[name] = result    "
   ]
  },
  {
   "cell_type": "markdown",
   "metadata": {},
   "source": [
    "La función va a añadir dos columnas nuevas a la tabla:"
   ]
  },
  {
   "cell_type": "code",
   "execution_count": 12,
   "metadata": {},
   "outputs": [
    {
     "data": {
      "text/html": [
       "<div>\n",
       "<style scoped>\n",
       "    .dataframe tbody tr th:only-of-type {\n",
       "        vertical-align: middle;\n",
       "    }\n",
       "\n",
       "    .dataframe tbody tr th {\n",
       "        vertical-align: top;\n",
       "    }\n",
       "\n",
       "    .dataframe thead th {\n",
       "        text-align: right;\n",
       "    }\n",
       "</style>\n",
       "<table border=\"1\" class=\"dataframe\">\n",
       "  <thead>\n",
       "    <tr style=\"text-align: right;\">\n",
       "      <th></th>\n",
       "      <th>fecha</th>\n",
       "      <th>origen</th>\n",
       "      <th>destino</th>\n",
       "      <th>actividad_origen</th>\n",
       "      <th>actividad_destino</th>\n",
       "      <th>residencia</th>\n",
       "      <th>periodo</th>\n",
       "      <th>distancia</th>\n",
       "      <th>viajes</th>\n",
       "      <th>viajes_km</th>\n",
       "      <th>recoded_origen</th>\n",
       "      <th>recoded_destino</th>\n",
       "    </tr>\n",
       "  </thead>\n",
       "  <tbody>\n",
       "    <tr>\n",
       "      <th>0</th>\n",
       "      <td>20200214</td>\n",
       "      <td>01001_AM</td>\n",
       "      <td>01001_AM</td>\n",
       "      <td>casa</td>\n",
       "      <td>otros</td>\n",
       "      <td>1</td>\n",
       "      <td>0</td>\n",
       "      <td>002-005</td>\n",
       "      <td>8.203</td>\n",
       "      <td>33.073</td>\n",
       "      <td>1</td>\n",
       "      <td>1</td>\n",
       "    </tr>\n",
       "    <tr>\n",
       "      <th>1</th>\n",
       "      <td>20200214</td>\n",
       "      <td>01001_AM</td>\n",
       "      <td>01001_AM</td>\n",
       "      <td>casa</td>\n",
       "      <td>otros</td>\n",
       "      <td>1</td>\n",
       "      <td>0</td>\n",
       "      <td>005-010</td>\n",
       "      <td>10.080</td>\n",
       "      <td>62.972</td>\n",
       "      <td>1</td>\n",
       "      <td>1</td>\n",
       "    </tr>\n",
       "    <tr>\n",
       "      <th>2</th>\n",
       "      <td>20200214</td>\n",
       "      <td>01001_AM</td>\n",
       "      <td>01001_AM</td>\n",
       "      <td>casa</td>\n",
       "      <td>otros</td>\n",
       "      <td>1</td>\n",
       "      <td>1</td>\n",
       "      <td>002-005</td>\n",
       "      <td>15.592</td>\n",
       "      <td>65.630</td>\n",
       "      <td>1</td>\n",
       "      <td>1</td>\n",
       "    </tr>\n",
       "    <tr>\n",
       "      <th>3</th>\n",
       "      <td>20200214</td>\n",
       "      <td>01001_AM</td>\n",
       "      <td>01001_AM</td>\n",
       "      <td>casa</td>\n",
       "      <td>otros</td>\n",
       "      <td>1</td>\n",
       "      <td>1</td>\n",
       "      <td>005-010</td>\n",
       "      <td>15.184</td>\n",
       "      <td>129.594</td>\n",
       "      <td>1</td>\n",
       "      <td>1</td>\n",
       "    </tr>\n",
       "    <tr>\n",
       "      <th>4</th>\n",
       "      <td>20200214</td>\n",
       "      <td>01001_AM</td>\n",
       "      <td>01001_AM</td>\n",
       "      <td>casa</td>\n",
       "      <td>otros</td>\n",
       "      <td>1</td>\n",
       "      <td>3</td>\n",
       "      <td>005-010</td>\n",
       "      <td>7.675</td>\n",
       "      <td>48.108</td>\n",
       "      <td>1</td>\n",
       "      <td>1</td>\n",
       "    </tr>\n",
       "  </tbody>\n",
       "</table>\n",
       "</div>"
      ],
      "text/plain": [
       "      fecha    origen   destino actividad_origen actividad_destino  \\\n",
       "0  20200214  01001_AM  01001_AM             casa             otros   \n",
       "1  20200214  01001_AM  01001_AM             casa             otros   \n",
       "2  20200214  01001_AM  01001_AM             casa             otros   \n",
       "3  20200214  01001_AM  01001_AM             casa             otros   \n",
       "4  20200214  01001_AM  01001_AM             casa             otros   \n",
       "\n",
       "   residencia  periodo distancia  viajes  viajes_km  recoded_origen  \\\n",
       "0           1        0   002-005   8.203     33.073               1   \n",
       "1           1        0   005-010  10.080     62.972               1   \n",
       "2           1        1   002-005  15.592     65.630               1   \n",
       "3           1        1   005-010  15.184    129.594               1   \n",
       "4           1        3   005-010   7.675     48.108               1   \n",
       "\n",
       "   recoded_destino  \n",
       "0                1  \n",
       "1                1  \n",
       "2                1  \n",
       "3                1  \n",
       "4                1  "
      ]
     },
     "execution_count": 12,
     "metadata": {},
     "output_type": "execute_result"
    }
   ],
   "source": [
    "recode(file,'origen')\n",
    "recode(file,'destino')\n",
    "file.head(5)"
   ]
  },
  {
   "cell_type": "markdown",
   "metadata": {},
   "source": [
    "Averiguamos que todos los registros tengan la misma fecha (esperamos a ver el febrero 14)."
   ]
  },
  {
   "cell_type": "code",
   "execution_count": 8,
   "metadata": {},
   "outputs": [
    {
     "data": {
      "text/plain": [
       "array([20200214], dtype=int64)"
      ]
     },
     "execution_count": 8,
     "metadata": {},
     "output_type": "execute_result"
    }
   ],
   "source": [
    "file.fecha.unique()"
   ]
  },
  {
   "cell_type": "markdown",
   "metadata": {},
   "source": [
    "Antes de empezar el análisis tenemos que escoger la variable que represente el nivel de movilidad. Parece que el campo \"viajes_km\" puede ser apropiado. \n",
    "\n",
    "Para ver el número de kilometros recorridos por todos los viajeros en cada hora y cada provincia, creamos una tabla nueva con datos consolidados."
   ]
  },
  {
   "cell_type": "code",
   "execution_count": 15,
   "metadata": {},
   "outputs": [],
   "source": [
    "x=range(24)\n",
    "df = pd.DataFrame(x)\n",
    "\n",
    "provincias=list(range(1,53))\n",
    "\n",
    "for code in provincias:\n",
    "    \n",
    "    provincia= file[file['recoded_origen']==code]\n",
    "    data = provincia[['periodo','viajes_km']]\n",
    "    grouped = data.groupby(by=[\"periodo\"]).sum()\n",
    "    y = grouped['viajes_km']\n",
    "    df[code]=y\n",
    "    \n",
    "df.rename(columns={0:'hora'}, inplace=True)"
   ]
  },
  {
   "cell_type": "code",
   "execution_count": 16,
   "metadata": {},
   "outputs": [
    {
     "data": {
      "text/html": [
       "<div>\n",
       "<style scoped>\n",
       "    .dataframe tbody tr th:only-of-type {\n",
       "        vertical-align: middle;\n",
       "    }\n",
       "\n",
       "    .dataframe tbody tr th {\n",
       "        vertical-align: top;\n",
       "    }\n",
       "\n",
       "    .dataframe thead th {\n",
       "        text-align: right;\n",
       "    }\n",
       "</style>\n",
       "<table border=\"1\" class=\"dataframe\">\n",
       "  <thead>\n",
       "    <tr style=\"text-align: right;\">\n",
       "      <th></th>\n",
       "      <th>hora</th>\n",
       "      <th>1</th>\n",
       "      <th>2</th>\n",
       "      <th>3</th>\n",
       "      <th>4</th>\n",
       "      <th>5</th>\n",
       "      <th>6</th>\n",
       "      <th>7</th>\n",
       "      <th>8</th>\n",
       "      <th>9</th>\n",
       "      <th>...</th>\n",
       "      <th>43</th>\n",
       "      <th>44</th>\n",
       "      <th>45</th>\n",
       "      <th>46</th>\n",
       "      <th>47</th>\n",
       "      <th>48</th>\n",
       "      <th>49</th>\n",
       "      <th>50</th>\n",
       "      <th>51</th>\n",
       "      <th>52</th>\n",
       "    </tr>\n",
       "  </thead>\n",
       "  <tbody>\n",
       "    <tr>\n",
       "      <th>0</th>\n",
       "      <td>0</td>\n",
       "      <td>92803.316</td>\n",
       "      <td>164210.435</td>\n",
       "      <td>518210.882</td>\n",
       "      <td>329358.071</td>\n",
       "      <td>67491.505</td>\n",
       "      <td>216736.134</td>\n",
       "      <td>264824.899</td>\n",
       "      <td>1652882.141</td>\n",
       "      <td>142703.320</td>\n",
       "      <td>...</td>\n",
       "      <td>259607.705</td>\n",
       "      <td>41703.229</td>\n",
       "      <td>274482.187</td>\n",
       "      <td>766377.674</td>\n",
       "      <td>179982.816</td>\n",
       "      <td>229147.398</td>\n",
       "      <td>136410.926</td>\n",
       "      <td>422059.783</td>\n",
       "      <td>14128.802</td>\n",
       "      <td>37091.411</td>\n",
       "    </tr>\n",
       "    <tr>\n",
       "      <th>1</th>\n",
       "      <td>1</td>\n",
       "      <td>86847.687</td>\n",
       "      <td>81538.927</td>\n",
       "      <td>393489.830</td>\n",
       "      <td>203897.826</td>\n",
       "      <td>58026.406</td>\n",
       "      <td>192703.795</td>\n",
       "      <td>197998.273</td>\n",
       "      <td>1211816.240</td>\n",
       "      <td>144745.356</td>\n",
       "      <td>...</td>\n",
       "      <td>193971.642</td>\n",
       "      <td>37632.473</td>\n",
       "      <td>263551.598</td>\n",
       "      <td>719767.137</td>\n",
       "      <td>150022.647</td>\n",
       "      <td>173534.203</td>\n",
       "      <td>131087.586</td>\n",
       "      <td>465283.087</td>\n",
       "      <td>9077.673</td>\n",
       "      <td>18350.406</td>\n",
       "    </tr>\n",
       "    <tr>\n",
       "      <th>2</th>\n",
       "      <td>2</td>\n",
       "      <td>58407.743</td>\n",
       "      <td>69838.805</td>\n",
       "      <td>374452.610</td>\n",
       "      <td>161152.235</td>\n",
       "      <td>41392.384</td>\n",
       "      <td>206187.100</td>\n",
       "      <td>193373.220</td>\n",
       "      <td>1340067.594</td>\n",
       "      <td>114633.884</td>\n",
       "      <td>...</td>\n",
       "      <td>224915.211</td>\n",
       "      <td>34094.801</td>\n",
       "      <td>272050.210</td>\n",
       "      <td>726659.749</td>\n",
       "      <td>156607.051</td>\n",
       "      <td>177868.575</td>\n",
       "      <td>142872.481</td>\n",
       "      <td>429346.311</td>\n",
       "      <td>6487.513</td>\n",
       "      <td>25293.079</td>\n",
       "    </tr>\n",
       "    <tr>\n",
       "      <th>3</th>\n",
       "      <td>3</td>\n",
       "      <td>93307.185</td>\n",
       "      <td>140822.417</td>\n",
       "      <td>488560.248</td>\n",
       "      <td>326009.173</td>\n",
       "      <td>64028.268</td>\n",
       "      <td>219616.018</td>\n",
       "      <td>270823.160</td>\n",
       "      <td>1606906.907</td>\n",
       "      <td>116888.663</td>\n",
       "      <td>...</td>\n",
       "      <td>284854.622</td>\n",
       "      <td>58943.495</td>\n",
       "      <td>382766.763</td>\n",
       "      <td>946706.396</td>\n",
       "      <td>192281.659</td>\n",
       "      <td>231860.598</td>\n",
       "      <td>122176.265</td>\n",
       "      <td>530496.113</td>\n",
       "      <td>5000.881</td>\n",
       "      <td>10022.315</td>\n",
       "    </tr>\n",
       "    <tr>\n",
       "      <th>4</th>\n",
       "      <td>4</td>\n",
       "      <td>191336.785</td>\n",
       "      <td>184585.324</td>\n",
       "      <td>689755.851</td>\n",
       "      <td>243265.004</td>\n",
       "      <td>71811.628</td>\n",
       "      <td>302110.020</td>\n",
       "      <td>397782.578</td>\n",
       "      <td>2620235.443</td>\n",
       "      <td>198075.858</td>\n",
       "      <td>...</td>\n",
       "      <td>469881.805</td>\n",
       "      <td>75665.771</td>\n",
       "      <td>609971.160</td>\n",
       "      <td>1445174.523</td>\n",
       "      <td>314831.183</td>\n",
       "      <td>411683.376</td>\n",
       "      <td>131942.658</td>\n",
       "      <td>731609.267</td>\n",
       "      <td>7256.633</td>\n",
       "      <td>37810.463</td>\n",
       "    </tr>\n",
       "  </tbody>\n",
       "</table>\n",
       "<p>5 rows × 53 columns</p>\n",
       "</div>"
      ],
      "text/plain": [
       "   hora           1           2           3           4          5  \\\n",
       "0     0   92803.316  164210.435  518210.882  329358.071  67491.505   \n",
       "1     1   86847.687   81538.927  393489.830  203897.826  58026.406   \n",
       "2     2   58407.743   69838.805  374452.610  161152.235  41392.384   \n",
       "3     3   93307.185  140822.417  488560.248  326009.173  64028.268   \n",
       "4     4  191336.785  184585.324  689755.851  243265.004  71811.628   \n",
       "\n",
       "            6           7            8           9  ...          43  \\\n",
       "0  216736.134  264824.899  1652882.141  142703.320  ...  259607.705   \n",
       "1  192703.795  197998.273  1211816.240  144745.356  ...  193971.642   \n",
       "2  206187.100  193373.220  1340067.594  114633.884  ...  224915.211   \n",
       "3  219616.018  270823.160  1606906.907  116888.663  ...  284854.622   \n",
       "4  302110.020  397782.578  2620235.443  198075.858  ...  469881.805   \n",
       "\n",
       "          44          45           46          47          48          49  \\\n",
       "0  41703.229  274482.187   766377.674  179982.816  229147.398  136410.926   \n",
       "1  37632.473  263551.598   719767.137  150022.647  173534.203  131087.586   \n",
       "2  34094.801  272050.210   726659.749  156607.051  177868.575  142872.481   \n",
       "3  58943.495  382766.763   946706.396  192281.659  231860.598  122176.265   \n",
       "4  75665.771  609971.160  1445174.523  314831.183  411683.376  131942.658   \n",
       "\n",
       "           50         51         52  \n",
       "0  422059.783  14128.802  37091.411  \n",
       "1  465283.087   9077.673  18350.406  \n",
       "2  429346.311   6487.513  25293.079  \n",
       "3  530496.113   5000.881  10022.315  \n",
       "4  731609.267   7256.633  37810.463  \n",
       "\n",
       "[5 rows x 53 columns]"
      ]
     },
     "execution_count": 16,
     "metadata": {},
     "output_type": "execute_result"
    }
   ],
   "source": [
    "df.head()"
   ]
  },
  {
   "cell_type": "code",
   "execution_count": 18,
   "metadata": {},
   "outputs": [
    {
     "data": {
      "text/plain": [
       "RangeIndex(start=0, stop=24, step=1)"
      ]
     },
     "execution_count": 18,
     "metadata": {},
     "output_type": "execute_result"
    }
   ],
   "source": [
    "df.index"
   ]
  },
  {
   "cell_type": "markdown",
   "metadata": {},
   "source": [
    "En la tabla tenemos 52 columnas (provincias) y 24 filas (horas) con número de kilómetros de todos viajes iniciados durante la hora indicada.\n",
    "\n",
    "A que hora del día corresponde el nivel más alto de movilidad en cada provincia?"
   ]
  },
  {
   "cell_type": "code",
   "execution_count": 17,
   "metadata": {},
   "outputs": [
    {
     "data": {
      "text/plain": [
       "hora    23\n",
       "1       14\n",
       "2       16\n",
       "3       15\n",
       "4       14\n",
       "5       14\n",
       "6       14\n",
       "7       17\n",
       "8       15\n",
       "9       15\n",
       "10      14\n",
       "11      14\n",
       "12      14\n",
       "13      14\n",
       "14      15\n",
       "15      14\n",
       "16      15\n",
       "17      15\n",
       "18      14\n",
       "19      14\n",
       "20      14\n",
       "21      14\n",
       "22      15\n",
       "23      15\n",
       "24      15\n",
       "25      15\n",
       "26      14\n",
       "27      15\n",
       "28      14\n",
       "29      14\n",
       "30      14\n",
       "31      14\n",
       "32      15\n",
       "33      14\n",
       "34      14\n",
       "35      14\n",
       "36      14\n",
       "37      14\n",
       "38      15\n",
       "39      14\n",
       "40      14\n",
       "41      14\n",
       "42      14\n",
       "43      15\n",
       "44      14\n",
       "45      14\n",
       "46      14\n",
       "47      14\n",
       "48      14\n",
       "49      15\n",
       "50      14\n",
       "51      14\n",
       "52      14\n",
       "dtype: int64"
      ]
     },
     "execution_count": 17,
     "metadata": {},
     "output_type": "execute_result"
    }
   ],
   "source": [
    "df.idxmax()"
   ]
  },
  {
   "cell_type": "markdown",
   "metadata": {},
   "source": [
    "Así podemos ver que la movilidad más alta tiene lugar entre las 2 y 3 p.m.\n",
    "\n",
    "Cúales provincias muestran el nivel más alto de movilidad en cada hora del dia?"
   ]
  },
  {
   "cell_type": "code",
   "execution_count": 19,
   "metadata": {},
   "outputs": [
    {
     "data": {
      "text/plain": [
       "0     28\n",
       "1     28\n",
       "2     28\n",
       "3     28\n",
       "4     28\n",
       "5     28\n",
       "6     28\n",
       "7     28\n",
       "8     28\n",
       "9     28\n",
       "10    28\n",
       "11    28\n",
       "12    28\n",
       "13    28\n",
       "14    28\n",
       "15    28\n",
       "16    28\n",
       "17    28\n",
       "18    28\n",
       "19    28\n",
       "20    28\n",
       "21    28\n",
       "22    28\n",
       "23    28\n",
       "dtype: int64"
      ]
     },
     "execution_count": 19,
     "metadata": {},
     "output_type": "execute_result"
    }
   ],
   "source": [
    "df.idxmax(axis=1)"
   ]
  },
  {
   "cell_type": "markdown",
   "metadata": {},
   "source": [
    "Los códigos de provincias españolas se puede encontrar aqui: https://www.absoluteaxarquia.com/regions-provinces-comarcas-of-spain/ El código 28 pertenece a Madrid.\n",
    "\n",
    "Qué provincia (a parte de Ceuta y Melilla) tiene el nivel más bajo de movilidad en cada hora del día?"
   ]
  },
  {
   "cell_type": "code",
   "execution_count": 20,
   "metadata": {},
   "outputs": [
    {
     "data": {
      "text/plain": [
       "0     44\n",
       "1     42\n",
       "2     42\n",
       "3     42\n",
       "4     42\n",
       "5     42\n",
       "6     42\n",
       "7     42\n",
       "8     42\n",
       "9     42\n",
       "10    42\n",
       "11    42\n",
       "12    42\n",
       "13    42\n",
       "14    42\n",
       "15    42\n",
       "16    42\n",
       "17    42\n",
       "18    42\n",
       "19    42\n",
       "20    42\n",
       "21    42\n",
       "22    42\n",
       "23    42\n",
       "dtype: int64"
      ]
     },
     "execution_count": 20,
     "metadata": {},
     "output_type": "execute_result"
    }
   ],
   "source": [
    "df.iloc[:,1:51].idxmin(axis=1)"
   ]
  },
  {
   "cell_type": "markdown",
   "metadata": {},
   "source": [
    "El código 42 pertenece a Soria y el 44 a Teruel. Pero Soria por supuesto es el anti-líder. \n",
    "\n",
    "Terminamos la exploración preliminar con visualizar los niveles de movilidad por hora en unas provincias del país el día 14 de febrero de 2020."
   ]
  },
  {
   "cell_type": "code",
   "execution_count": 23,
   "metadata": {},
   "outputs": [
    {
     "data": {
      "text/plain": [
       "<matplotlib.legend.Legend at 0x39906b5388>"
      ]
     },
     "execution_count": 23,
     "metadata": {},
     "output_type": "execute_result"
    },
    {
     "data": {
      "image/png": "[encoded data removed]",
      "text/plain": [
       "<Figure size 720x504 with 1 Axes>"
      ]
     },
     "metadata": {
      "needs_background": "light"
     },
     "output_type": "display_data"
    }
   ],
   "source": [
    "plt.figure(figsize=(10,7))\n",
    "\n",
    "plt.plot(df['hora'], df[28], color='red', label='Madrid')\n",
    "plt.plot(df['hora'], df[8], color='pink', label='Barcelona')\n",
    "plt.plot(df['hora'], df[46], color='brown', label='Valencia')\n",
    "plt.plot(df['hora'], df[41], color='orange', label='Sevilla')\n",
    "plt.plot(df['hora'], df[3], color='blue', label='Alicante')\n",
    "plt.plot(df['hora'], df[42], color='green', label='Soria')\n",
    "plt.xlabel('Hora')\n",
    "plt.ylabel('Movilidad, viajeros_kms')\n",
    "plt.title('Movilidad en provincias de España, el Febrero 14 de 2020')\n",
    "plt.legend()"
   ]
  },
  {
   "cell_type": "code",
   "execution_count": null,
   "metadata": {},
   "outputs": [],
   "source": []
  },
  {
   "cell_type": "code",
   "execution_count": null,
   "metadata": {},
   "outputs": [],
   "source": []
  },
  {
   "cell_type": "code",
   "execution_count": null,
   "metadata": {},
   "outputs": [],
   "source": []
  }
 ],
 "metadata": {
  "kernelspec": {
   "display_name": "Python 3",
   "language": "python",
   "name": "python3"
  },
  "language_info": {
   "codemirror_mode": {
    "name": "ipython",
    "version": 3
   },
   "file_extension": ".py",
   "mimetype": "text/x-python",
   "name": "python",
   "nbconvert_exporter": "python",
   "pygments_lexer": "ipython3",
   "version": "3.7.6"
  }
 },
 "nbformat": 4,
 "nbformat_minor": 4
}
